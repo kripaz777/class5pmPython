{
 "cells": [
  {
   "cell_type": "code",
   "execution_count": 2,
   "metadata": {},
   "outputs": [
    {
     "name": "stdout",
     "output_type": "stream",
     "text": [
      "(1, 2, 3, 4, 5, 6)\n",
      "('Apple', 'Ball', 'Cat', 'Dog')\n",
      "()\n"
     ]
    }
   ],
   "source": [
    "t = tuple()\n",
    "a = (1,2,3,4,5,6)\n",
    "b = ('Apple',\"Ball\",\"Cat\",\"Dog\")\n",
    "print(a)\n",
    "print(b)\n",
    "print(t)"
   ]
  },
  {
   "cell_type": "code",
   "execution_count": 5,
   "metadata": {},
   "outputs": [
    {
     "name": "stdout",
     "output_type": "stream",
     "text": [
      "<class 'tuple'>\n",
      "<class 'tuple'>\n"
     ]
    }
   ],
   "source": [
    "print(type(a))\n",
    "print(type(b))"
   ]
  },
  {
   "cell_type": "code",
   "execution_count": 6,
   "metadata": {},
   "outputs": [],
   "source": [
    "# Tuple\n",
    "# -Indexed\n",
    "# -Multiple Values\n",
    "# -Duplicate\n",
    "# -Ordered\n",
    "# -Imutable"
   ]
  },
  {
   "cell_type": "code",
   "execution_count": 9,
   "metadata": {},
   "outputs": [
    {
     "name": "stdout",
     "output_type": "stream",
     "text": [
      "Cat\n"
     ]
    }
   ],
   "source": [
    "a = ('Apple', 'Ball', 'Cat', 'Dog')\n",
    "print(a[2])"
   ]
  },
  {
   "cell_type": "code",
   "execution_count": 11,
   "metadata": {},
   "outputs": [
    {
     "data": {
      "text/plain": [
       "('Apple', 'Ball', 'Cat', 'Dog', 'Apple')"
      ]
     },
     "execution_count": 11,
     "metadata": {},
     "output_type": "execute_result"
    }
   ],
   "source": [
    "a = ('Apple', 'Ball', 'Cat', 'Dog','Apple')\n",
    "a"
   ]
  },
  {
   "cell_type": "code",
   "execution_count": 12,
   "metadata": {},
   "outputs": [],
   "source": [
    "# update delete create"
   ]
  },
  {
   "cell_type": "code",
   "execution_count": 13,
   "metadata": {},
   "outputs": [
    {
     "name": "stdout",
     "output_type": "stream",
     "text": [
      "Apple\n",
      "Ball\n",
      "Cat\n",
      "Dog\n",
      "Apple\n"
     ]
    }
   ],
   "source": [
    "a = ('Apple', 'Ball', 'Cat', 'Dog','Apple')\n",
    "for i in a:\n",
    "    print(i)"
   ]
  },
  {
   "cell_type": "code",
   "execution_count": 19,
   "metadata": {},
   "outputs": [
    {
     "name": "stdout",
     "output_type": "stream",
     "text": [
      "('Apple', 'Ball', 'Cat')\n"
     ]
    }
   ],
   "source": [
    "a = (\"Apple\",\"Ball\")\n",
    "b = (\"Cat\",)\n",
    "c = a+b\n",
    "print(c)"
   ]
  },
  {
   "cell_type": "code",
   "execution_count": 17,
   "metadata": {},
   "outputs": [
    {
     "data": {
      "text/plain": [
       "tuple"
      ]
     },
     "execution_count": 17,
     "metadata": {},
     "output_type": "execute_result"
    }
   ],
   "source": [
    "b = (\"Cat\",)\n",
    "type(b)"
   ]
  },
  {
   "cell_type": "code",
   "execution_count": 21,
   "metadata": {},
   "outputs": [
    {
     "name": "stdout",
     "output_type": "stream",
     "text": [
      "Enter n = 2\n",
      "Enter x = 213\n",
      "Enter x = 132\n",
      "('213', '132')\n"
     ]
    }
   ],
   "source": [
    "y = ()\n",
    "n = int(input(\"Enter n = \"))\n",
    "for i in range(n):\n",
    "    x = input(\"Enter x = \")\n",
    "    y = y + (x,)\n",
    "    \n",
    "print(y)"
   ]
  },
  {
   "cell_type": "code",
   "execution_count": 23,
   "metadata": {},
   "outputs": [
    {
     "ename": "TypeError",
     "evalue": "'tuple' object does not support item assignment",
     "output_type": "error",
     "traceback": [
      "\u001b[1;31m---------------------------------------------------------------------------\u001b[0m",
      "\u001b[1;31mTypeError\u001b[0m                                 Traceback (most recent call last)",
      "\u001b[1;32m~\\AppData\\Local\\Temp/ipykernel_228/2133340586.py\u001b[0m in \u001b[0;36m<module>\u001b[1;34m\u001b[0m\n\u001b[0;32m      1\u001b[0m \u001b[0ma\u001b[0m \u001b[1;33m=\u001b[0m \u001b[1;33m(\u001b[0m\u001b[1;34m'Apple'\u001b[0m\u001b[1;33m,\u001b[0m \u001b[1;34m'Ball'\u001b[0m\u001b[1;33m,\u001b[0m \u001b[1;34m'Cat'\u001b[0m\u001b[1;33m)\u001b[0m\u001b[1;33m\u001b[0m\u001b[1;33m\u001b[0m\u001b[0m\n\u001b[1;32m----> 2\u001b[1;33m \u001b[0ma\u001b[0m\u001b[1;33m[\u001b[0m\u001b[1;36m0\u001b[0m\u001b[1;33m]\u001b[0m \u001b[1;33m=\u001b[0m \u001b[1;34m'Ant'\u001b[0m\u001b[1;33m\u001b[0m\u001b[1;33m\u001b[0m\u001b[0m\n\u001b[0m",
      "\u001b[1;31mTypeError\u001b[0m: 'tuple' object does not support item assignment"
     ]
    }
   ],
   "source": [
    "a = ('Apple', 'Ball', 'Cat')\n",
    "a[0] = 'Ant'"
   ]
  },
  {
   "cell_type": "code",
   "execution_count": 24,
   "metadata": {},
   "outputs": [
    {
     "data": {
      "text/plain": [
       "['Apple', 'Ball', 'Cat']"
      ]
     },
     "execution_count": 24,
     "metadata": {},
     "output_type": "execute_result"
    }
   ],
   "source": [
    "a = ('Apple', 'Ball', 'Cat')\n",
    "list(a)\n"
   ]
  },
  {
   "cell_type": "code",
   "execution_count": 25,
   "metadata": {},
   "outputs": [
    {
     "data": {
      "text/plain": [
       "['H', 'e', 'l', 'l', 'o', ' ', 'W', 'o', 'r', 'l', 'd']"
      ]
     },
     "execution_count": 25,
     "metadata": {},
     "output_type": "execute_result"
    }
   ],
   "source": [
    "a = \"Hello World\"\n",
    "b = list(a)\n",
    "b"
   ]
  },
  {
   "cell_type": "code",
   "execution_count": 26,
   "metadata": {},
   "outputs": [
    {
     "data": {
      "text/plain": [
       "('H', 'e', 'l', 'l', 'o', ' ', 'W', 'o', 'r', 'l', 'd')"
      ]
     },
     "execution_count": 26,
     "metadata": {},
     "output_type": "execute_result"
    }
   ],
   "source": [
    "a = \"Hello World\"\n",
    "b = tuple(a)\n",
    "b"
   ]
  },
  {
   "cell_type": "code",
   "execution_count": 29,
   "metadata": {},
   "outputs": [
    {
     "data": {
      "text/plain": [
       "('Ball', 'Cat')"
      ]
     },
     "execution_count": 29,
     "metadata": {},
     "output_type": "execute_result"
    }
   ],
   "source": [
    "a = ('Apple', 'Ball', 'Cat')\n",
    "b = list(a)\n",
    "del b[0]\n",
    "a = tuple(b)\n",
    "a"
   ]
  },
  {
   "cell_type": "code",
   "execution_count": 34,
   "metadata": {},
   "outputs": [
    {
     "name": "stdout",
     "output_type": "stream",
     "text": [
      "('hello', 'World')\n"
     ]
    }
   ],
   "source": [
    "def cal():\n",
    "    return \"hello\",\"World\"\n",
    "\n",
    "print(cal())"
   ]
  },
  {
   "cell_type": "code",
   "execution_count": 33,
   "metadata": {},
   "outputs": [
    {
     "name": "stdout",
     "output_type": "stream",
     "text": [
      "hello\n",
      "World\n"
     ]
    }
   ],
   "source": [
    "x,y = cal()\n",
    "print(x)\n",
    "print(y)"
   ]
  },
  {
   "cell_type": "code",
   "execution_count": 35,
   "metadata": {},
   "outputs": [
    {
     "data": {
      "text/plain": [
       "(('Ram', 23, 'Kathmandu'),\n",
       " ('Shyam', 32, 'Bhaktapur'),\n",
       " ('Hari', 31, 'Lalitpur'))"
      ]
     },
     "execution_count": 35,
     "metadata": {},
     "output_type": "execute_result"
    }
   ],
   "source": [
    "a = ((1,2,3),\n",
    "     (4,5,6),\n",
    "     (7,8,9))\n",
    "\n",
    "b = (('Ram',23,'Kathmandu'),\n",
    "    ('Shyam',32,'Bhaktapur'),\n",
    "    ('Hari',31,'Lalitpur'))\n",
    "b"
   ]
  },
  {
   "cell_type": "code",
   "execution_count": 39,
   "metadata": {},
   "outputs": [
    {
     "data": {
      "text/plain": [
       "[['Ram', 23, 'Kathmandu'],\n",
       " ['Shyam', 32, 'Bhaktapur'],\n",
       " ['Hari', 31, 'Lalitpur']]"
      ]
     },
     "execution_count": 39,
     "metadata": {},
     "output_type": "execute_result"
    }
   ],
   "source": [
    "l = []\n",
    "b = (('Ram',23,'Kathmandu'),\n",
    "    ('Shyam',32,'Bhaktapur'),\n",
    "    ('Hari',31,'Lalitpur'))\n",
    "\n",
    "b = list(b)\n",
    "for i in b:\n",
    "    l.append(list(i))\n",
    "    \n",
    "l"
   ]
  },
  {
   "cell_type": "code",
   "execution_count": 41,
   "metadata": {},
   "outputs": [
    {
     "data": {
      "text/plain": [
       "(('Ram', 23, 'Kathmandu'),\n",
       " ('Shyam', 32, 'Bhaktapur'),\n",
       " ('Hari', 31, 'Lalitpur'))"
      ]
     },
     "execution_count": 41,
     "metadata": {},
     "output_type": "execute_result"
    }
   ],
   "source": [
    "a = [['Ram', 23, 'Kathmandu'],\n",
    " ['Shyam', 32, 'Bhaktapur'],\n",
    " ['Hari', 31, 'Lalitpur']]\n",
    "\n",
    "t = ()\n",
    "for i in a:\n",
    "    t = t+(tuple(i),)\n",
    "    \n",
    "t"
   ]
  },
  {
   "cell_type": "code",
   "execution_count": 43,
   "metadata": {},
   "outputs": [
    {
     "name": "stdout",
     "output_type": "stream",
     "text": [
      "Enter r = 3\n",
      "Enter c =  3\n",
      "Enter x = 1\n",
      "Enter x = 2\n",
      "Enter x = 3\n",
      "Enter x = 4\n",
      "Enter x = 5\n",
      "Enter x = 6\n",
      "Enter x = 7\n",
      "Enter x = 8\n",
      "Enter x = 9\n"
     ]
    }
   ],
   "source": [
    "r = int(input(\"Enter r = \"))\n",
    "c = int(input(\"Enter c =  \"))\n",
    "z = []                                    #[[1,2,3],[4,5,6],[7,8,9]]\n",
    "for i in range(r):\n",
    "    y = []                                 # [7,8,9]\n",
    "    for j in range(c):\n",
    "        x = int(input(\"Enter x = \"))\n",
    "        y.append(x)                            \n",
    "        \n",
    "    z.append(y)"
   ]
  },
  {
   "cell_type": "code",
   "execution_count": 44,
   "metadata": {},
   "outputs": [
    {
     "data": {
      "text/plain": [
       "[[1, 2, 3], [4, 5, 6], [7, 8, 9]]"
      ]
     },
     "execution_count": 44,
     "metadata": {},
     "output_type": "execute_result"
    }
   ],
   "source": [
    "z"
   ]
  },
  {
   "cell_type": "code",
   "execution_count": null,
   "metadata": {},
   "outputs": [],
   "source": []
  }
 ],
 "metadata": {
  "kernelspec": {
   "display_name": "Python 3 (ipykernel)",
   "language": "python",
   "name": "python3"
  },
  "language_info": {
   "codemirror_mode": {
    "name": "ipython",
    "version": 3
   },
   "file_extension": ".py",
   "mimetype": "text/x-python",
   "name": "python",
   "nbconvert_exporter": "python",
   "pygments_lexer": "ipython3",
   "version": "3.7.1"
  }
 },
 "nbformat": 4,
 "nbformat_minor": 2
}
